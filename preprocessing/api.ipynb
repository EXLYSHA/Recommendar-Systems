{
 "cells": [
  {
   "cell_type": "code",
   "execution_count": null,
   "id": "0b4ceb67",
   "metadata": {},
   "outputs": [
    {
     "name": "stdout",
     "output_type": "stream",
     "text": [
      "[\"Baby cotton blend fitted sheet for arm's reach co-sleepers.\", 'none']\n"
     ]
    }
   ],
   "source": [
    "sentences = [\"Baby Original cotton blend fitted sheet specifically designed for the arm's reach co-sleepers.\", \"\"]\n",
    "basic_prompt = \"Please perform the following transformation on the product description below: 1. If the product description exceeds 70 tokens, output a shortened version with fewer than 70 tokens.2. If the product description contains 70 tokens or fewer, output the natural language version as-is.3. If the product description is empty, output 'none'.Only output the transformed result — no additional labels or annotations.Here is the product description:\"\n",
    "results = []\n",
    "from openai import OpenAI\n",
    "\n",
    "client = OpenAI(api_key=\"sk-xqulaqciaqusjymbzvnogkazghejqwicejpnbqxclwliulsz\", \n",
    "                base_url=\"https://api.siliconflow.cn/v1\")\n",
    "for sentence in sentences:\n",
    "    prompt = basic_prompt+sentence\n",
    "    response = client.chat.completions.create(\n",
    "        model=\"deepseek-ai/DeepSeek-V3\",\n",
    "        messages=[\n",
    "            {'role': 'user', \n",
    "            'content': prompt}\n",
    "        ],\n",
    "        stream=True\n",
    "    )\n",
    "    output = \"\"\n",
    "    for chunk in response:\n",
    "        if chunk.choices[0].delta.content:\n",
    "            output += chunk.choices[0].delta.content\n",
    "    results.append(output)\n",
    "\n",
    "\n"
   ]
  }
 ],
 "metadata": {
  "kernelspec": {
   "display_name": "bole",
   "language": "python",
   "name": "python3"
  },
  "language_info": {
   "codemirror_mode": {
    "name": "ipython",
    "version": 3
   },
   "file_extension": ".py",
   "mimetype": "text/x-python",
   "name": "python",
   "nbconvert_exporter": "python",
   "pygments_lexer": "ipython3",
   "version": "3.11.9"
  }
 },
 "nbformat": 4,
 "nbformat_minor": 5
}
