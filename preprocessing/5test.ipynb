{
 "cells": [
  {
   "cell_type": "code",
   "execution_count": 1,
   "id": "9874137b",
   "metadata": {},
   "outputs": [
    {
     "data": {
      "text/plain": [
       "'/home/exlysha/MMRec/data/baby'"
      ]
     },
     "execution_count": 1,
     "metadata": {},
     "output_type": "execute_result"
    }
   ],
   "source": [
    "import os\n",
    "os.chdir('/home/exlysha/MMRec/data/baby')\n",
    "os.getcwd()"
   ]
  },
  {
   "cell_type": "code",
   "execution_count": 3,
   "id": "fbd6860b",
   "metadata": {},
   "outputs": [
    {
     "data": {
      "text/plain": [
       "(7050, 2048)"
      ]
     },
     "execution_count": 3,
     "metadata": {},
     "output_type": "execute_result"
    }
   ],
   "source": [
    "import numpy as np\n",
    "import pandas as pd\n",
    "text_feat = np.load('text_feat_rn.npy')\n",
    "vis_feat = np.load('image_feat_rn.npy')\n",
    "# vis_feat.shape\n",
    "all_feat_rn = np.concatenate((text_feat, vis_feat), axis=1)\n",
    "all_feat_rn.shape"
   ]
  },
  {
   "cell_type": "code",
   "execution_count": 4,
   "id": "f7ef3578",
   "metadata": {},
   "outputs": [
    {
     "name": "stdout",
     "output_type": "stream",
     "text": [
      "done!\n"
     ]
    }
   ],
   "source": [
    "np.save('all_feat_rn.npy', all_feat_rn)\n",
    "print('done!')"
   ]
  },
  {
   "cell_type": "code",
   "execution_count": 1,
   "id": "f75e4af2",
   "metadata": {},
   "outputs": [
    {
     "name": "stdout",
     "output_type": "stream",
     "text": [
      "['RN50', 'RN101', 'RN50x4', 'RN50x16', 'RN50x64', 'ViT-B/32', 'ViT-B/16', 'ViT-L/14', 'ViT-L/14@336px']\n"
     ]
    }
   ],
   "source": [
    "import clip\n",
    "print(clip.available_models())"
   ]
  }
 ],
 "metadata": {
  "kernelspec": {
   "display_name": "bole",
   "language": "python",
   "name": "python3"
  },
  "language_info": {
   "codemirror_mode": {
    "name": "ipython",
    "version": 3
   },
   "file_extension": ".py",
   "mimetype": "text/x-python",
   "name": "python",
   "nbconvert_exporter": "python",
   "pygments_lexer": "ipython3",
   "version": "3.11.9"
  }
 },
 "nbformat": 4,
 "nbformat_minor": 5
}
